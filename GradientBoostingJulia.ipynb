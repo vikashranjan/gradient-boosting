{
 "cells": [
  {
   "cell_type": "code",
   "execution_count": 1,
   "metadata": {},
   "outputs": [
    {
     "data": {
      "text/plain": [
       "rmse (generic function with 1 method)"
      ]
     },
     "execution_count": 1,
     "metadata": {},
     "output_type": "execute_result"
    }
   ],
   "source": [
    "include(\"gradient-boosting.jl\")"
   ]
  },
  {
   "cell_type": "code",
   "execution_count": 2,
   "metadata": {},
   "outputs": [],
   "source": [
    "using CSV,DataFrames,Printf,BenchmarkTools,LinearAlgebra, Statistics, Compat"
   ]
  },
  {
   "cell_type": "code",
   "execution_count": 3,
   "metadata": {},
   "outputs": [
    {
     "name": "stdout",
     "output_type": "stream",
     "text": [
      "Load data..."
     ]
    },
    {
     "name": "stderr",
     "output_type": "stream",
     "text": [
      "┌ Warning: `CSV.read(input; kw...)` is deprecated in favor of `using DataFrames; CSV.read(input, DataFrame; kw...)\n",
      "│   caller = ip:0x0\n",
      "└ @ Core :-1\n"
     ]
    },
    {
     "data": {
      "text/html": [
       "<table class=\"data-frame\"><thead><tr><th></th><th>Column1</th><th>Column2</th><th>Column3</th><th>Column4</th><th>Column5</th><th>Column6</th><th>Column7</th><th>Column8</th><th>Column9</th></tr><tr><th></th><th>Int64</th><th>Float64</th><th>Float64</th><th>Float64</th><th>Float64</th><th>Float64</th><th>Float64</th><th>Float64</th><th>Float64</th></tr></thead><tbody><p>500 rows × 29 columns (omitted printing of 20 columns)</p><tr><th>1</th><td>1</td><td>0.644</td><td>0.247</td><td>-0.447</td><td>0.862</td><td>0.374</td><td>0.854</td><td>-1.126</td><td>-0.79</td></tr><tr><th>2</th><td>0</td><td>0.385</td><td>1.8</td><td>1.037</td><td>1.044</td><td>0.349</td><td>1.502</td><td>-0.966</td><td>1.734</td></tr><tr><th>3</th><td>0</td><td>1.214</td><td>-0.166</td><td>0.004</td><td>0.505</td><td>1.434</td><td>0.628</td><td>-1.174</td><td>-1.23</td></tr><tr><th>4</th><td>1</td><td>0.42</td><td>1.111</td><td>0.137</td><td>1.516</td><td>-1.657</td><td>0.854</td><td>0.623</td><td>1.605</td></tr><tr><th>5</th><td>0</td><td>0.897</td><td>-1.703</td><td>-1.306</td><td>1.022</td><td>-0.729</td><td>0.836</td><td>0.859</td><td>-0.333</td></tr><tr><th>6</th><td>0</td><td>0.756</td><td>1.126</td><td>-0.945</td><td>2.355</td><td>-0.555</td><td>0.889</td><td>0.8</td><td>1.44</td></tr><tr><th>7</th><td>0</td><td>1.141</td><td>-0.741</td><td>0.953</td><td>1.478</td><td>-0.524</td><td>1.197</td><td>-0.871</td><td>1.689</td></tr><tr><th>8</th><td>1</td><td>0.606</td><td>-0.936</td><td>-0.384</td><td>1.257</td><td>-1.162</td><td>2.719</td><td>-0.6</td><td>0.1</td></tr><tr><th>9</th><td>1</td><td>0.603</td><td>0.429</td><td>-0.279</td><td>1.448</td><td>1.301</td><td>1.008</td><td>2.423</td><td>-1.295</td></tr><tr><th>10</th><td>0</td><td>1.171</td><td>-0.962</td><td>0.521</td><td>0.841</td><td>-0.315</td><td>1.196</td><td>-0.744</td><td>-0.882</td></tr><tr><th>11</th><td>1</td><td>1.392</td><td>-0.358</td><td>0.235</td><td>1.494</td><td>-0.461</td><td>0.895</td><td>-0.848</td><td>1.549</td></tr><tr><th>12</th><td>1</td><td>1.024</td><td>1.076</td><td>-0.886</td><td>0.851</td><td>1.53</td><td>0.673</td><td>-0.449</td><td>0.187</td></tr><tr><th>13</th><td>1</td><td>0.89</td><td>-0.76</td><td>1.182</td><td>1.369</td><td>0.751</td><td>0.696</td><td>-0.959</td><td>-0.71</td></tr><tr><th>14</th><td>1</td><td>0.46</td><td>0.537</td><td>0.636</td><td>1.442</td><td>-0.269</td><td>0.585</td><td>0.323</td><td>-1.731</td></tr><tr><th>15</th><td>1</td><td>0.364</td><td>1.648</td><td>0.56</td><td>1.72</td><td>0.829</td><td>1.11</td><td>0.811</td><td>-0.588</td></tr><tr><th>16</th><td>1</td><td>0.525</td><td>-0.096</td><td>1.206</td><td>0.948</td><td>-1.103</td><td>1.519</td><td>-0.582</td><td>0.606</td></tr><tr><th>17</th><td>0</td><td>0.536</td><td>-0.821</td><td>-1.029</td><td>0.703</td><td>1.113</td><td>0.363</td><td>-0.711</td><td>0.022</td></tr><tr><th>18</th><td>1</td><td>1.789</td><td>-0.583</td><td>1.641</td><td>0.897</td><td>0.799</td><td>0.515</td><td>-0.1</td><td>-1.483</td></tr><tr><th>19</th><td>1</td><td>1.332</td><td>-0.571</td><td>0.986</td><td>0.58</td><td>1.508</td><td>0.582</td><td>0.634</td><td>-0.746</td></tr><tr><th>20</th><td>0</td><td>1.123</td><td>0.629</td><td>-1.708</td><td>0.597</td><td>-0.882</td><td>0.752</td><td>0.195</td><td>1.522</td></tr><tr><th>21</th><td>0</td><td>1.816</td><td>-0.515</td><td>0.171</td><td>0.98</td><td>-0.454</td><td>0.87</td><td>0.202</td><td>-1.399</td></tr><tr><th>22</th><td>1</td><td>0.364</td><td>0.694</td><td>0.445</td><td>1.862</td><td>0.159</td><td>0.963</td><td>-1.356</td><td>1.26</td></tr><tr><th>23</th><td>1</td><td>0.79</td><td>-1.175</td><td>0.475</td><td>1.846</td><td>0.094</td><td>0.999</td><td>-1.09</td><td>0.257</td></tr><tr><th>24</th><td>1</td><td>0.765</td><td>-0.5</td><td>-0.603</td><td>1.843</td><td>-0.56</td><td>1.068</td><td>0.007</td><td>0.746</td></tr><tr><th>25</th><td>1</td><td>1.407</td><td>1.293</td><td>-1.418</td><td>0.502</td><td>-1.527</td><td>2.005</td><td>-2.122</td><td>0.622</td></tr><tr><th>26</th><td>1</td><td>0.772</td><td>-0.186</td><td>-1.372</td><td>0.823</td><td>-0.14</td><td>0.781</td><td>0.763</td><td>0.046</td></tr><tr><th>27</th><td>1</td><td>0.546</td><td>-0.954</td><td>0.715</td><td>1.335</td><td>-1.689</td><td>0.783</td><td>-0.443</td><td>-1.735</td></tr><tr><th>28</th><td>1</td><td>0.596</td><td>0.276</td><td>-1.054</td><td>1.358</td><td>1.355</td><td>1.444</td><td>1.813</td><td>-0.208</td></tr><tr><th>29</th><td>0</td><td>0.458</td><td>2.292</td><td>1.53</td><td>0.291</td><td>1.283</td><td>0.749</td><td>-0.93</td><td>-0.198</td></tr><tr><th>30</th><td>0</td><td>0.638</td><td>-0.575</td><td>-1.048</td><td>0.125</td><td>0.178</td><td>0.846</td><td>-0.753</td><td>-0.339</td></tr><tr><th>&vellip;</th><td>&vellip;</td><td>&vellip;</td><td>&vellip;</td><td>&vellip;</td><td>&vellip;</td><td>&vellip;</td><td>&vellip;</td><td>&vellip;</td><td>&vellip;</td></tr></tbody></table>"
      ],
      "text/latex": [
       "\\begin{tabular}{r|cccccccccc}\n",
       "\t& Column1 & Column2 & Column3 & Column4 & Column5 & Column6 & Column7 & Column8 & Column9 & \\\\\n",
       "\t\\hline\n",
       "\t& Int64 & Float64 & Float64 & Float64 & Float64 & Float64 & Float64 & Float64 & Float64 & \\\\\n",
       "\t\\hline\n",
       "\t1 & 1 & 0.644 & 0.247 & -0.447 & 0.862 & 0.374 & 0.854 & -1.126 & -0.79 & $\\dots$ \\\\\n",
       "\t2 & 0 & 0.385 & 1.8 & 1.037 & 1.044 & 0.349 & 1.502 & -0.966 & 1.734 & $\\dots$ \\\\\n",
       "\t3 & 0 & 1.214 & -0.166 & 0.004 & 0.505 & 1.434 & 0.628 & -1.174 & -1.23 & $\\dots$ \\\\\n",
       "\t4 & 1 & 0.42 & 1.111 & 0.137 & 1.516 & -1.657 & 0.854 & 0.623 & 1.605 & $\\dots$ \\\\\n",
       "\t5 & 0 & 0.897 & -1.703 & -1.306 & 1.022 & -0.729 & 0.836 & 0.859 & -0.333 & $\\dots$ \\\\\n",
       "\t6 & 0 & 0.756 & 1.126 & -0.945 & 2.355 & -0.555 & 0.889 & 0.8 & 1.44 & $\\dots$ \\\\\n",
       "\t7 & 0 & 1.141 & -0.741 & 0.953 & 1.478 & -0.524 & 1.197 & -0.871 & 1.689 & $\\dots$ \\\\\n",
       "\t8 & 1 & 0.606 & -0.936 & -0.384 & 1.257 & -1.162 & 2.719 & -0.6 & 0.1 & $\\dots$ \\\\\n",
       "\t9 & 1 & 0.603 & 0.429 & -0.279 & 1.448 & 1.301 & 1.008 & 2.423 & -1.295 & $\\dots$ \\\\\n",
       "\t10 & 0 & 1.171 & -0.962 & 0.521 & 0.841 & -0.315 & 1.196 & -0.744 & -0.882 & $\\dots$ \\\\\n",
       "\t11 & 1 & 1.392 & -0.358 & 0.235 & 1.494 & -0.461 & 0.895 & -0.848 & 1.549 & $\\dots$ \\\\\n",
       "\t12 & 1 & 1.024 & 1.076 & -0.886 & 0.851 & 1.53 & 0.673 & -0.449 & 0.187 & $\\dots$ \\\\\n",
       "\t13 & 1 & 0.89 & -0.76 & 1.182 & 1.369 & 0.751 & 0.696 & -0.959 & -0.71 & $\\dots$ \\\\\n",
       "\t14 & 1 & 0.46 & 0.537 & 0.636 & 1.442 & -0.269 & 0.585 & 0.323 & -1.731 & $\\dots$ \\\\\n",
       "\t15 & 1 & 0.364 & 1.648 & 0.56 & 1.72 & 0.829 & 1.11 & 0.811 & -0.588 & $\\dots$ \\\\\n",
       "\t16 & 1 & 0.525 & -0.096 & 1.206 & 0.948 & -1.103 & 1.519 & -0.582 & 0.606 & $\\dots$ \\\\\n",
       "\t17 & 0 & 0.536 & -0.821 & -1.029 & 0.703 & 1.113 & 0.363 & -0.711 & 0.022 & $\\dots$ \\\\\n",
       "\t18 & 1 & 1.789 & -0.583 & 1.641 & 0.897 & 0.799 & 0.515 & -0.1 & -1.483 & $\\dots$ \\\\\n",
       "\t19 & 1 & 1.332 & -0.571 & 0.986 & 0.58 & 1.508 & 0.582 & 0.634 & -0.746 & $\\dots$ \\\\\n",
       "\t20 & 0 & 1.123 & 0.629 & -1.708 & 0.597 & -0.882 & 0.752 & 0.195 & 1.522 & $\\dots$ \\\\\n",
       "\t21 & 0 & 1.816 & -0.515 & 0.171 & 0.98 & -0.454 & 0.87 & 0.202 & -1.399 & $\\dots$ \\\\\n",
       "\t22 & 1 & 0.364 & 0.694 & 0.445 & 1.862 & 0.159 & 0.963 & -1.356 & 1.26 & $\\dots$ \\\\\n",
       "\t23 & 1 & 0.79 & -1.175 & 0.475 & 1.846 & 0.094 & 0.999 & -1.09 & 0.257 & $\\dots$ \\\\\n",
       "\t24 & 1 & 0.765 & -0.5 & -0.603 & 1.843 & -0.56 & 1.068 & 0.007 & 0.746 & $\\dots$ \\\\\n",
       "\t25 & 1 & 1.407 & 1.293 & -1.418 & 0.502 & -1.527 & 2.005 & -2.122 & 0.622 & $\\dots$ \\\\\n",
       "\t26 & 1 & 0.772 & -0.186 & -1.372 & 0.823 & -0.14 & 0.781 & 0.763 & 0.046 & $\\dots$ \\\\\n",
       "\t27 & 1 & 0.546 & -0.954 & 0.715 & 1.335 & -1.689 & 0.783 & -0.443 & -1.735 & $\\dots$ \\\\\n",
       "\t28 & 1 & 0.596 & 0.276 & -1.054 & 1.358 & 1.355 & 1.444 & 1.813 & -0.208 & $\\dots$ \\\\\n",
       "\t29 & 0 & 0.458 & 2.292 & 1.53 & 0.291 & 1.283 & 0.749 & -0.93 & -0.198 & $\\dots$ \\\\\n",
       "\t30 & 0 & 0.638 & -0.575 & -1.048 & 0.125 & 0.178 & 0.846 & -0.753 & -0.339 & $\\dots$ \\\\\n",
       "\t$\\dots$ & $\\dots$ & $\\dots$ & $\\dots$ & $\\dots$ & $\\dots$ & $\\dots$ & $\\dots$ & $\\dots$ & $\\dots$ &  \\\\\n",
       "\\end{tabular}\n"
      ],
      "text/plain": [
       "500×29 DataFrame. Omitted printing of 22 columns\n",
       "│ Row │ Column1 │ Column2 │ Column3 │ Column4 │ Column5 │ Column6 │ Column7 │\n",
       "│     │ \u001b[90mInt64\u001b[39m   │ \u001b[90mFloat64\u001b[39m │ \u001b[90mFloat64\u001b[39m │ \u001b[90mFloat64\u001b[39m │ \u001b[90mFloat64\u001b[39m │ \u001b[90mFloat64\u001b[39m │ \u001b[90mFloat64\u001b[39m │\n",
       "├─────┼─────────┼─────────┼─────────┼─────────┼─────────┼─────────┼─────────┤\n",
       "│ 1   │ 1       │ 0.644   │ 0.247   │ -0.447  │ 0.862   │ 0.374   │ 0.854   │\n",
       "│ 2   │ 0       │ 0.385   │ 1.8     │ 1.037   │ 1.044   │ 0.349   │ 1.502   │\n",
       "│ 3   │ 0       │ 1.214   │ -0.166  │ 0.004   │ 0.505   │ 1.434   │ 0.628   │\n",
       "│ 4   │ 1       │ 0.42    │ 1.111   │ 0.137   │ 1.516   │ -1.657  │ 0.854   │\n",
       "│ 5   │ 0       │ 0.897   │ -1.703  │ -1.306  │ 1.022   │ -0.729  │ 0.836   │\n",
       "│ 6   │ 0       │ 0.756   │ 1.126   │ -0.945  │ 2.355   │ -0.555  │ 0.889   │\n",
       "│ 7   │ 0       │ 1.141   │ -0.741  │ 0.953   │ 1.478   │ -0.524  │ 1.197   │\n",
       "│ 8   │ 1       │ 0.606   │ -0.936  │ -0.384  │ 1.257   │ -1.162  │ 2.719   │\n",
       "│ 9   │ 1       │ 0.603   │ 0.429   │ -0.279  │ 1.448   │ 1.301   │ 1.008   │\n",
       "│ 10  │ 0       │ 1.171   │ -0.962  │ 0.521   │ 0.841   │ -0.315  │ 1.196   │\n",
       "⋮\n",
       "│ 490 │ 1       │ 0.551   │ 0.911   │ 0.879   │ 0.379   │ -0.796  │ 1.154   │\n",
       "│ 491 │ 1       │ 1.597   │ 0.793   │ -1.119  │ 0.691   │ -1.455  │ 0.37    │\n",
       "│ 492 │ 0       │ 1.033   │ -1.193  │ -0.452  │ 0.247   │ 0.97    │ 0.503   │\n",
       "│ 493 │ 1       │ 0.859   │ -1.004  │ 1.521   │ 0.781   │ -0.993  │ 0.677   │\n",
       "│ 494 │ 0       │ 0.612   │ -1.127  │ 1.074   │ 1.225   │ -0.426  │ 0.927   │\n",
       "│ 495 │ 1       │ 0.535   │ 0.321   │ -1.095  │ 0.281   │ -0.96   │ 0.876   │\n",
       "│ 496 │ 1       │ 0.745   │ 1.586   │ 1.578   │ 0.863   │ -1.423  │ 0.53    │\n",
       "│ 497 │ 0       │ 0.677   │ -1.014  │ -1.648  │ 1.455   │ 1.461   │ 0.596   │\n",
       "│ 498 │ 1       │ 0.815   │ -1.263  │ 0.057   │ 1.018   │ -0.208  │ 0.339   │\n",
       "│ 499 │ 0       │ 3.512   │ -1.094  │ -0.22   │ 0.338   │ -0.328  │ 1.962   │\n",
       "│ 500 │ 0       │ 0.904   │ 1.248   │ 0.325   │ 0.317   │ -1.624  │ 0.685   │"
      ]
     },
     "execution_count": 3,
     "metadata": {},
     "output_type": "execute_result"
    }
   ],
   "source": [
    "print(\"Load data...\")\n",
    "df_train = CSV.read(\"./data/regression.train\"; delim=\"\\t\",header=false)\n",
    "df_test = CSV.read(\"./data/regression.test\"; delim=\"\\t\",header=false)\n",
    "\n"
   ]
  },
  {
   "cell_type": "code",
   "execution_count": 4,
   "metadata": {},
   "outputs": [
    {
     "data": {
      "text/plain": [
       "500×28 Array{Float64,2}:\n",
       " 0.644   0.247  -0.447  0.862   0.374  …  0.98   0.875  0.581  0.905  0.796\n",
       " 0.385   1.8     1.037  1.044   0.349     0.981  0.803  0.813  1.149  1.116\n",
       " 1.214  -0.166   0.004  0.505   1.434     1.043  0.931  1.058  0.744  0.696\n",
       " 0.42    1.111   0.137  1.516  -1.657     1.105  0.73   0.148  1.231  1.234\n",
       " 0.897  -1.703  -1.306  1.022  -0.729     0.984  1.43   2.198  1.934  1.684\n",
       " 0.756   1.126  -0.945  2.355  -0.555  …  0.988  0.803  0.234  0.822  0.911\n",
       " 1.141  -0.741   0.953  1.478  -0.524     1.747  1.358  2.479  1.491  1.223\n",
       " 0.606  -0.936  -0.384  1.257  -1.162     0.985  1.574  4.323  2.263  1.742\n",
       " 0.603   0.429  -0.279  1.448   1.301     1.281  0.763  0.652  0.827  0.785\n",
       " 1.171  -0.962   0.521  0.841  -0.315     0.987  0.846  1.293  0.899  0.756\n",
       " 1.392  -0.358   0.235  1.494  -0.461  …  1.17   1.362  0.959  2.056  1.842\n",
       " 1.024   1.076  -0.886  0.851   1.53      1.063  1.193  0.777  0.964  0.807\n",
       " 0.89   -0.76    1.182  1.369   0.751     0.998  1.126  0.788  0.94   0.79\n",
       " ⋮                                     ⋱                ⋮             \n",
       " 1.686  -1.09   -0.301  0.89    0.557     1.186  1.528  0.889  1.015  1.122\n",
       " 0.551   0.911   0.879  0.379  -0.796     0.99   0.772  0.546  0.79   0.719\n",
       " 1.597   0.793  -1.119  0.691  -1.455  …  0.994  0.719  0.745  0.812  0.739\n",
       " 1.033  -1.193  -0.452  0.247   0.97      0.991  0.717  1.081  0.763  0.69\n",
       " 0.859  -1.004   1.521  0.781  -0.993     0.984  0.627  0.633  0.694  0.643\n",
       " 0.612  -1.127   1.074  1.225  -0.426     1.17   0.895  1.604  1.179  1.142\n",
       " 0.535   0.321  -1.095  0.281  -0.96      0.985  0.888  0.741  0.872  0.758\n",
       " 0.745   1.586   1.578  0.863  -1.423  …  0.983  0.947  0.858  0.928  0.823\n",
       " 0.677  -1.014  -1.648  1.455   1.461     0.982  1.074  1.623  1.417  1.258\n",
       " 0.815  -1.263   0.057  1.018  -0.208     1.0    0.784  0.477  0.886  0.836\n",
       " 3.512  -1.094  -0.22   0.338  -0.328     0.993  2.259  2.0    1.626  1.349\n",
       " 0.904   1.248   0.325  0.317  -1.624     0.989  0.93   0.904  1.012  0.961"
      ]
     },
     "execution_count": 4,
     "metadata": {},
     "output_type": "execute_result"
    }
   ],
   "source": [
    "y_train = convert(Array,df_train[1])\n",
    "y_test = convert(Array,df_test[1])\n",
    "X_train = convert(Matrix,deletecols!(df_train, 1))\n",
    "X_test =  convert(Matrix,deletecols!(df_test, 1))"
   ]
  },
  {
   "cell_type": "code",
   "execution_count": 5,
   "metadata": {},
   "outputs": [
    {
     "data": {
      "text/plain": [
       "Dataset([0.644 0.247 … 0.905 0.796; 0.385 1.8 … 1.149 1.116; … ; 3.512 -1.094 … 1.626 1.349; 0.904 1.248 … 1.012 0.961], [1, 0, 0, 1, 0, 0, 0, 1, 1, 0  …  1, 0, 1, 0, 1, 1, 0, 1, 0, 0])"
      ]
     },
     "execution_count": 5,
     "metadata": {},
     "output_type": "execute_result"
    }
   ],
   "source": [
    "train_data = Dataset(X_train, y_train)\n",
    "eval_data = Dataset(X_test, y_test)"
   ]
  },
  {
   "cell_type": "code",
   "execution_count": 6,
   "metadata": {},
   "outputs": [
    {
     "data": {
      "text/plain": [
       "Dict{String,Real} with 5 entries:\n",
       "  \"max_depth\"      => 5\n",
       "  \"gamma\"          => 0.0\n",
       "  \"lambda\"         => 1.0\n",
       "  \"learning_rate\"  => 0.3\n",
       "  \"min_split_gain\" => 0.1"
      ]
     },
     "execution_count": 6,
     "metadata": {},
     "output_type": "execute_result"
    }
   ],
   "source": [
    "params=Dict(\"gamma\"=> 0.,\n",
    "                       \"lambda\"=> 1.,\n",
    "                       \"min_split_gain\"=> 0.1,\n",
    "                       \"max_depth\"=> 5,\n",
    "                       \"learning_rate\"=> 0.3,\n",
    "                       )"
   ]
  },
  {
   "cell_type": "code",
   "execution_count": 12,
   "metadata": {},
   "outputs": [
    {
     "name": "stdout",
     "output_type": "stream",
     "text": [
      "Start training...Training until validation scores don't improve for 5 rounds. \n",
      "Iter 1, Train's Loss: 1315.928465, Valid's Loss: 99.477324, Elapsed: 0.904038 secs \n",
      "Iter 2, Train's Loss: 3343.181945, Valid's Loss: 240.157691, Elapsed: 1.169416 secs \n",
      "Iter 3, Train's Loss: 3260.506033, Valid's Loss: 234.623938, Elapsed: 0.903499 secs \n",
      "Iter 4, Train's Loss: 3242.527208, Valid's Loss: 233.600982, Elapsed: 1.163453 secs \n",
      "Iter 5, Train's Loss: 3245.592307, Valid's Loss: 233.832391, Elapsed: 0.894928 secs \n",
      "Iter 6, Train's Loss: 3236.210456, Valid's Loss: 233.187566, Elapsed: 1.156144 secs \n",
      "Early stopping, best iteration is: \n",
      "Iter 1.000000, Train's Loss: 99.477324Training finished. Elapsed: 6.193106 secs"
     ]
    }
   ],
   "source": [
    "print(\"Start training...\")\n",
    "gbt = GradientBoostedTree()\n",
    "train!(gbt,params,train_data,25,eval_data,5,l2_loss)"
   ]
  },
  {
   "cell_type": "code",
   "execution_count": 13,
   "metadata": {},
   "outputs": [
    {
     "name": "stdout",
     "output_type": "stream",
     "text": [
      "Start predicting...The rmse of prediction is: 0.555729"
     ]
    }
   ],
   "source": [
    "print(\"Start predicting...\")\n",
    "y_pred = Float64[]\n",
    "for i  in len(X_test)\n",
    "    push!(y_pred,predict(gbt,X_test[i,:]))\n",
    "end\n",
    "\n",
    "@printf(\"The rmse of prediction is: %f\", rmse(y_test,y_pred))"
   ]
  },
  {
   "cell_type": "code",
   "execution_count": null,
   "metadata": {},
   "outputs": [],
   "source": []
  }
 ],
 "metadata": {
  "kernelspec": {
   "display_name": "JuliaPro_v1.5.2-1 1.5.2",
   "language": "julia",
   "name": "juliapro_v1.5.2-1-1.5"
  },
  "language_info": {
   "file_extension": ".jl",
   "mimetype": "application/julia",
   "name": "julia",
   "version": "1.5.2"
  }
 },
 "nbformat": 4,
 "nbformat_minor": 4
}
